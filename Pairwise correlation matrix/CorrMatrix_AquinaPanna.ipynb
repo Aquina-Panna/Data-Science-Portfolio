{
 "cells": [
  {
   "cell_type": "markdown",
   "metadata": {},
   "source": [
    "## Pairwise Correlation Matrix Problem\n",
    "\n",
    "\n",
    "**Steps to follow**\n",
    "1. Reads in a correlation matrix\n",
    "2. Changes the correlation matrix into a pairwise list\n",
    "3. Outputs the pairwise list to a CSV file\n",
    "\n",
    "\n",
    "**Points to Remenber**\n",
    "1. The output pairwise list should only contain correlations whose correlation value is 0.9 or\n",
    "greater\n",
    "2. The output pairwise list should order all correlations from greatest to least"
   ]
  },
  {
   "cell_type": "code",
   "execution_count": 1,
   "metadata": {},
   "outputs": [],
   "source": [
    "# importing required librery\n",
    "\n",
    "import numpy as np\n",
    "import pandas as pd\n",
    "import csv"
   ]
  },
  {
   "cell_type": "code",
   "execution_count": 2,
   "metadata": {},
   "outputs": [
    {
     "name": "stdout",
     "output_type": "stream",
     "text": [
      "A H 0.9350208\n",
      "A J 0.98812285\n",
      "E K 0.952473473\n",
      "G H 0.948078594\n"
     ]
    }
   ],
   "source": [
    "# reading csv file to a temporary list say temp_list\n",
    "\n",
    "f = open('correlation-matrix-example.csv','r')\n",
    "read = csv.reader(f)\n",
    "temp_list = []\n",
    "\n",
    "for row in read:\n",
    "    temp_list.append(row)\n",
    "\n",
    "# Creating 3 saperate lists to hold 2 variable names(say var1 and var2) and their correlation values(say val)\n",
    "\n",
    "var1 = []\n",
    "var2 = []\n",
    "val = []\n",
    "\n",
    "# itterating through the temporart list temp_list to capture values\n",
    "\n",
    "for rows in range (1,len(temp_list)):\n",
    "#first loop to iterate through each rows in the list    \n",
    "    for item in range (rows+1,len(temp_list)):\n",
    "    # second loop to iterate through each items in the list    \n",
    "        if (float(temp_list[rows][item]) >= 0.90):\n",
    "        # we only want to capture values which are greater than or equal to 0.90    \n",
    "            var1.append(temp_list[rows][0])\n",
    "            var2.append(temp_list[0][item])\n",
    "            val.append(temp_list[rows][item])\n",
    "            print (temp_list[rows][0],temp_list[0][item],temp_list[rows][item]) # to check if we are capturing right values\n",
    "            \n",
    "    \n"
   ]
  },
  {
   "cell_type": "code",
   "execution_count": 3,
   "metadata": {},
   "outputs": [
    {
     "name": "stdout",
     "output_type": "stream",
     "text": [
      "A H 0.9350208\n",
      "A J 0.98812285\n",
      "E K 0.952473473\n",
      "G H 0.948078594\n"
     ]
    }
   ],
   "source": [
    "# verifying the lists are updated correctly\n",
    "\n",
    "for i in range(0, len(var1)):\n",
    "    print(var1[i], var2[i],val[i])"
   ]
  },
  {
   "cell_type": "code",
   "execution_count": 4,
   "metadata": {},
   "outputs": [
    {
     "data": {
      "text/html": [
       "<div>\n",
       "<style scoped>\n",
       "    .dataframe tbody tr th:only-of-type {\n",
       "        vertical-align: middle;\n",
       "    }\n",
       "\n",
       "    .dataframe tbody tr th {\n",
       "        vertical-align: top;\n",
       "    }\n",
       "\n",
       "    .dataframe thead th {\n",
       "        text-align: right;\n",
       "    }\n",
       "</style>\n",
       "<table border=\"1\" class=\"dataframe\">\n",
       "  <thead>\n",
       "    <tr style=\"text-align: right;\">\n",
       "      <th></th>\n",
       "      <th>var1</th>\n",
       "      <th>var2</th>\n",
       "      <th>val</th>\n",
       "    </tr>\n",
       "  </thead>\n",
       "  <tbody>\n",
       "    <tr>\n",
       "      <th>1</th>\n",
       "      <td>A</td>\n",
       "      <td>J</td>\n",
       "      <td>0.98812285</td>\n",
       "    </tr>\n",
       "    <tr>\n",
       "      <th>2</th>\n",
       "      <td>E</td>\n",
       "      <td>K</td>\n",
       "      <td>0.952473473</td>\n",
       "    </tr>\n",
       "    <tr>\n",
       "      <th>3</th>\n",
       "      <td>G</td>\n",
       "      <td>H</td>\n",
       "      <td>0.948078594</td>\n",
       "    </tr>\n",
       "    <tr>\n",
       "      <th>0</th>\n",
       "      <td>A</td>\n",
       "      <td>H</td>\n",
       "      <td>0.9350208</td>\n",
       "    </tr>\n",
       "  </tbody>\n",
       "</table>\n",
       "</div>"
      ],
      "text/plain": [
       "  var1 var2          val\n",
       "1    A    J   0.98812285\n",
       "2    E    K  0.952473473\n",
       "3    G    H  0.948078594\n",
       "0    A    H    0.9350208"
      ]
     },
     "execution_count": 4,
     "metadata": {},
     "output_type": "execute_result"
    }
   ],
   "source": [
    "# creating a dataframe to sort the value list 'val' and to create a csv file with variables and their correlation value \n",
    "\n",
    "df = pd.DataFrame()\n",
    "df['var1'] = var1\n",
    "df['var2'] = var2\n",
    "df['val'] = val\n",
    "final = df.sort_values(by='val', ascending=False)\n",
    "final"
   ]
  },
  {
   "cell_type": "code",
   "execution_count": 5,
   "metadata": {},
   "outputs": [],
   "source": [
    "# generating the csv file of name 'correlation_matrix_pairwise_list.csv' with sorted correlation values\n",
    "\n",
    "final.to_csv('correlation_matrix_pairwise_list.csv', index=False)"
   ]
  }
 ],
 "metadata": {
  "kernelspec": {
   "display_name": "Python 3",
   "language": "python",
   "name": "python3"
  },
  "language_info": {
   "codemirror_mode": {
    "name": "ipython",
    "version": 3
   },
   "file_extension": ".py",
   "mimetype": "text/x-python",
   "name": "python",
   "nbconvert_exporter": "python",
   "pygments_lexer": "ipython3",
   "version": "3.7.6"
  }
 },
 "nbformat": 4,
 "nbformat_minor": 4
}
