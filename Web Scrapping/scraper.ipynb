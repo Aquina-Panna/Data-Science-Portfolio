{
 "cells": [
  {
   "cell_type": "markdown",
   "metadata": {},
   "source": [
    "### Scrping Reviews from Apple App Store\n",
    "\n",
    "##### This code help to overcome infinite scrolling"
   ]
  },
  {
   "cell_type": "code",
   "execution_count": 1,
   "metadata": {},
   "outputs": [],
   "source": [
    "### Useful libraries\n",
    "\n",
    "import urllib.request as req\n",
    "from bs4 import BeautifulSoup\n",
    "from selenium import webdriver\n",
    "from selenium.webdriver.common.keys import Keys\n",
    "import time\n",
    "from helium import * "
   ]
  },
  {
   "cell_type": "code",
   "execution_count": 2,
   "metadata": {},
   "outputs": [],
   "source": [
    "### website url\n",
    "\n",
    "url = 'https://apps.apple.com/us/app/uber-eats-food-delivery/id1058959277#see-all/reviews'"
   ]
  },
  {
   "cell_type": "code",
   "execution_count": 4,
   "metadata": {},
   "outputs": [],
   "source": [
    "### Loading page to maximum depth using selenium for python\n",
    "\n",
    "\n",
    "driver = webdriver.Chrome('C:\\chromedriver_win32\\chromedriver.exe')\n",
    "driver.get(url)\n",
    "time.sleep(1)\n",
    "element = driver.find_element_by_tag_name('body')\n",
    "max_scroll = 1000\n",
    "count = 0\n",
    "while count<max_scroll:\n",
    "    element.send_keys(Keys.PAGE_DOWN)\n",
    "    time.sleep(1)\n",
    "    count += 1\n",
    "# driver.quit()\n",
    "# time.sleep(10)\n",
    "html = driver.page_source\n"
   ]
  },
  {
   "cell_type": "code",
   "execution_count": 5,
   "metadata": {},
   "outputs": [
    {
     "name": "stdout",
     "output_type": "stream",
     "text": [
      "<class 'str'>\n"
     ]
    }
   ],
   "source": [
    "### Check if HTML codes extracted from the website\n",
    "\n",
    "print(type(html))\n",
    "print (html[:100])"
   ]
  },
  {
   "cell_type": "code",
   "execution_count": 6,
   "metadata": {},
   "outputs": [],
   "source": [
    "### creating object for BeautifulSoup\n",
    "\n",
    "soup = BeautifulSoup(html, 'html.parser') "
   ]
  },
  {
   "cell_type": "code",
   "execution_count": 7,
   "metadata": {},
   "outputs": [],
   "source": [
    "# print(soup.prettify)"
   ]
  },
  {
   "cell_type": "code",
   "execution_count": 8,
   "metadata": {},
   "outputs": [
    {
     "name": "stdout",
     "output_type": "stream",
     "text": [
      "c 5010\n",
      "d 5010\n",
      "u 5010\n"
     ]
    }
   ],
   "source": [
    "### scrapping information from html code\n",
    "\n",
    "\n",
    "user=[]         # collect user's name\n",
    "review = []     # collect reviews\n",
    "date = []       # collect review date\n",
    "test = soup.find_all('div',{'class':'we-customer-review lockup'})   # looping through main div class for collecting reviews\n",
    "c=1\n",
    "for i in test:\n",
    "    user.append(i.find('span',{'class':\"we-truncate we-truncate--single-line we-customer-review__user\"}).get_text().strip())\n",
    "    date.append(i.find('time').get_text())\n",
    "    all_text = i.find_all('blockquote')\n",
    "    review.append(all_text[0].find('p').get_text())\n",
    "\n",
    "\n",
    "# verifying if the data collected properly    \n",
    "print('c',len(review))  \n",
    "print('d',len(date))\n",
    "print('u',len(user))\n"
   ]
  },
  {
   "cell_type": "code",
   "execution_count": 9,
   "metadata": {},
   "outputs": [
    {
     "data": {
      "text/html": [
       "<div>\n",
       "<style scoped>\n",
       "    .dataframe tbody tr th:only-of-type {\n",
       "        vertical-align: middle;\n",
       "    }\n",
       "\n",
       "    .dataframe tbody tr th {\n",
       "        vertical-align: top;\n",
       "    }\n",
       "\n",
       "    .dataframe thead th {\n",
       "        text-align: right;\n",
       "    }\n",
       "</style>\n",
       "<table border=\"1\" class=\"dataframe\">\n",
       "  <thead>\n",
       "    <tr style=\"text-align: right;\">\n",
       "      <th></th>\n",
       "      <th>user</th>\n",
       "      <th>date</th>\n",
       "      <th>review</th>\n",
       "    </tr>\n",
       "  </thead>\n",
       "  <tbody>\n",
       "    <tr>\n",
       "      <th>0</th>\n",
       "      <td>sammmm545</td>\n",
       "      <td>11/14/2019</td>\n",
       "      <td>As you earn rewards you are only not aware tha...</td>\n",
       "    </tr>\n",
       "    <tr>\n",
       "      <th>1</th>\n",
       "      <td>wowharmonyy</td>\n",
       "      <td>04/08/2021</td>\n",
       "      <td>I’m usually not like this when it comes to ser...</td>\n",
       "    </tr>\n",
       "    <tr>\n",
       "      <th>2</th>\n",
       "      <td>Wd annoyed</td>\n",
       "      <td>06/10/2021</td>\n",
       "      <td>Alot of my issues here arent the drivers. For ...</td>\n",
       "    </tr>\n",
       "    <tr>\n",
       "      <th>3</th>\n",
       "      <td>So67 hep</td>\n",
       "      <td>06/26/2019</td>\n",
       "      <td>App works fairly well, so far food orders perf...</td>\n",
       "    </tr>\n",
       "    <tr>\n",
       "      <th>4</th>\n",
       "      <td>mike1937</td>\n",
       "      <td>02/05/2019</td>\n",
       "      <td>Let me just start with saying Door Dash refund...</td>\n",
       "    </tr>\n",
       "  </tbody>\n",
       "</table>\n",
       "</div>"
      ],
      "text/plain": [
       "          user        date                                             review\n",
       "0    sammmm545  11/14/2019  As you earn rewards you are only not aware tha...\n",
       "1  wowharmonyy  04/08/2021  I’m usually not like this when it comes to ser...\n",
       "2   Wd annoyed  06/10/2021  Alot of my issues here arent the drivers. For ...\n",
       "3     So67 hep  06/26/2019  App works fairly well, so far food orders perf...\n",
       "4     mike1937  02/05/2019  Let me just start with saying Door Dash refund..."
      ]
     },
     "execution_count": 9,
     "metadata": {},
     "output_type": "execute_result"
    }
   ],
   "source": [
    "### collecting data into dataframe\n",
    "\n",
    "\n",
    "import pandas as pd\n",
    "\n",
    "df = pd.DataFrame(columns=['user','date','review'])\n",
    "df['user'] = user\n",
    "df['date'] = date\n",
    "df['review'] = review\n",
    "\n",
    "df.head()"
   ]
  },
  {
   "cell_type": "code",
   "execution_count": 10,
   "metadata": {},
   "outputs": [
    {
     "data": {
      "text/plain": [
       "(5010, 3)"
      ]
     },
     "execution_count": 10,
     "metadata": {},
     "output_type": "execute_result"
    }
   ],
   "source": [
    "### verify dataframe creation\n",
    "\n",
    "df.shape"
   ]
  },
  {
   "cell_type": "code",
   "execution_count": 11,
   "metadata": {},
   "outputs": [],
   "source": [
    "### Write the data into csv\n",
    "\n",
    "df.to_csv('app_store.csv', index=False)\n",
    "driver.quit()"
   ]
  },
  {
   "cell_type": "code",
   "execution_count": null,
   "metadata": {},
   "outputs": [],
   "source": [
    "### Write the html into text\n",
    "\n",
    "with open('app_store_html.txt','w') as file:\n",
    "    file.write(str(soup))"
   ]
  }
 ],
 "metadata": {
  "kernelspec": {
   "display_name": "Python 3",
   "language": "python",
   "name": "python3"
  },
  "language_info": {
   "codemirror_mode": {
    "name": "ipython",
    "version": 3
   },
   "file_extension": ".py",
   "mimetype": "text/x-python",
   "name": "python",
   "nbconvert_exporter": "python",
   "pygments_lexer": "ipython3",
   "version": "3.7.6"
  }
 },
 "nbformat": 4,
 "nbformat_minor": 4
}
